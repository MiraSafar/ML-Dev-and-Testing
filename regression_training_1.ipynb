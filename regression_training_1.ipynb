{
 "cells": [
  {
   "cell_type": "markdown",
   "id": "a9173855",
   "metadata": {},
   "source": [
    "## Regression Training - Simple Regression"
   ]
  },
  {
   "cell_type": "code",
   "execution_count": 1,
   "id": "e7ab4917",
   "metadata": {
    "scrolled": true
   },
   "outputs": [],
   "source": [
    "# Load all libraries\n",
    "import pandas as pd\n",
    "import matplotlib.pyplot as plt\n",
    "import sklearn.linear_model\n",
    "import sklearn.neighbors"
   ]
  },
  {
   "cell_type": "markdown",
   "id": "00d4f4ae",
   "metadata": {},
   "source": [
    "### 1. Exercise - Automobile Data\n",
    "- **Source**: UCI Machine Learning Repository\n",
    "- **Link**: https://archive.ics.uci.edu/ml/datasets/Automobile"
   ]
  },
  {
   "cell_type": "code",
   "execution_count": 2,
   "id": "62426a42",
   "metadata": {
    "scrolled": true
   },
   "outputs": [],
   "source": [
    "data_path = \"C:/Users/miros/Downloads/imports-85.data\""
   ]
  },
  {
   "cell_type": "markdown",
   "id": "b084e998",
   "metadata": {},
   "source": [
    "### Load data"
   ]
  },
  {
   "cell_type": "code",
   "execution_count": 3,
   "id": "261ece8d",
   "metadata": {
    "scrolled": true
   },
   "outputs": [],
   "source": [
    "data =  pd.read_csv(data_path, sep=\",\")"
   ]
  },
  {
   "cell_type": "code",
   "execution_count": 4,
   "id": "c35b8a5c",
   "metadata": {
    "scrolled": true
   },
   "outputs": [
    {
     "data": {
      "text/html": [
       "<div>\n",
       "<style scoped>\n",
       "    .dataframe tbody tr th:only-of-type {\n",
       "        vertical-align: middle;\n",
       "    }\n",
       "\n",
       "    .dataframe tbody tr th {\n",
       "        vertical-align: top;\n",
       "    }\n",
       "\n",
       "    .dataframe thead th {\n",
       "        text-align: right;\n",
       "    }\n",
       "</style>\n",
       "<table border=\"1\" class=\"dataframe\">\n",
       "  <thead>\n",
       "    <tr style=\"text-align: right;\">\n",
       "      <th></th>\n",
       "      <th>symboling</th>\n",
       "      <th>normalized-losses</th>\n",
       "      <th>make</th>\n",
       "      <th>fuel-type</th>\n",
       "      <th>aspiration</th>\n",
       "      <th>num-of-doors</th>\n",
       "      <th>body-style</th>\n",
       "      <th>drive-wheels</th>\n",
       "      <th>engine-location</th>\n",
       "      <th>wheel-base</th>\n",
       "      <th>...</th>\n",
       "      <th>engine-size</th>\n",
       "      <th>fuel-system</th>\n",
       "      <th>bore</th>\n",
       "      <th>stroke</th>\n",
       "      <th>compression-ratio</th>\n",
       "      <th>horsepower</th>\n",
       "      <th>peak-rpm</th>\n",
       "      <th>city-mpg</th>\n",
       "      <th>highway-mpg</th>\n",
       "      <th>price</th>\n",
       "    </tr>\n",
       "  </thead>\n",
       "  <tbody>\n",
       "    <tr>\n",
       "      <th>0</th>\n",
       "      <td>3</td>\n",
       "      <td>?</td>\n",
       "      <td>alfa-romero</td>\n",
       "      <td>gas</td>\n",
       "      <td>std</td>\n",
       "      <td>two</td>\n",
       "      <td>convertible</td>\n",
       "      <td>rwd</td>\n",
       "      <td>front</td>\n",
       "      <td>88.6</td>\n",
       "      <td>...</td>\n",
       "      <td>130</td>\n",
       "      <td>mpfi</td>\n",
       "      <td>3.47</td>\n",
       "      <td>2.68</td>\n",
       "      <td>9.0</td>\n",
       "      <td>111</td>\n",
       "      <td>5000</td>\n",
       "      <td>21</td>\n",
       "      <td>27</td>\n",
       "      <td>13495</td>\n",
       "    </tr>\n",
       "    <tr>\n",
       "      <th>1</th>\n",
       "      <td>3</td>\n",
       "      <td>?</td>\n",
       "      <td>alfa-romero</td>\n",
       "      <td>gas</td>\n",
       "      <td>std</td>\n",
       "      <td>two</td>\n",
       "      <td>convertible</td>\n",
       "      <td>rwd</td>\n",
       "      <td>front</td>\n",
       "      <td>88.6</td>\n",
       "      <td>...</td>\n",
       "      <td>130</td>\n",
       "      <td>mpfi</td>\n",
       "      <td>3.47</td>\n",
       "      <td>2.68</td>\n",
       "      <td>9.0</td>\n",
       "      <td>111</td>\n",
       "      <td>5000</td>\n",
       "      <td>21</td>\n",
       "      <td>27</td>\n",
       "      <td>16500</td>\n",
       "    </tr>\n",
       "    <tr>\n",
       "      <th>2</th>\n",
       "      <td>1</td>\n",
       "      <td>?</td>\n",
       "      <td>alfa-romero</td>\n",
       "      <td>gas</td>\n",
       "      <td>std</td>\n",
       "      <td>two</td>\n",
       "      <td>hatchback</td>\n",
       "      <td>rwd</td>\n",
       "      <td>front</td>\n",
       "      <td>94.5</td>\n",
       "      <td>...</td>\n",
       "      <td>152</td>\n",
       "      <td>mpfi</td>\n",
       "      <td>2.68</td>\n",
       "      <td>3.47</td>\n",
       "      <td>9.0</td>\n",
       "      <td>154</td>\n",
       "      <td>5000</td>\n",
       "      <td>19</td>\n",
       "      <td>26</td>\n",
       "      <td>16500</td>\n",
       "    </tr>\n",
       "    <tr>\n",
       "      <th>3</th>\n",
       "      <td>2</td>\n",
       "      <td>164</td>\n",
       "      <td>audi</td>\n",
       "      <td>gas</td>\n",
       "      <td>std</td>\n",
       "      <td>four</td>\n",
       "      <td>sedan</td>\n",
       "      <td>fwd</td>\n",
       "      <td>front</td>\n",
       "      <td>99.8</td>\n",
       "      <td>...</td>\n",
       "      <td>109</td>\n",
       "      <td>mpfi</td>\n",
       "      <td>3.19</td>\n",
       "      <td>3.40</td>\n",
       "      <td>10.0</td>\n",
       "      <td>102</td>\n",
       "      <td>5500</td>\n",
       "      <td>24</td>\n",
       "      <td>30</td>\n",
       "      <td>13950</td>\n",
       "    </tr>\n",
       "    <tr>\n",
       "      <th>4</th>\n",
       "      <td>2</td>\n",
       "      <td>164</td>\n",
       "      <td>audi</td>\n",
       "      <td>gas</td>\n",
       "      <td>std</td>\n",
       "      <td>four</td>\n",
       "      <td>sedan</td>\n",
       "      <td>4wd</td>\n",
       "      <td>front</td>\n",
       "      <td>99.4</td>\n",
       "      <td>...</td>\n",
       "      <td>136</td>\n",
       "      <td>mpfi</td>\n",
       "      <td>3.19</td>\n",
       "      <td>3.40</td>\n",
       "      <td>8.0</td>\n",
       "      <td>115</td>\n",
       "      <td>5500</td>\n",
       "      <td>18</td>\n",
       "      <td>22</td>\n",
       "      <td>17450</td>\n",
       "    </tr>\n",
       "  </tbody>\n",
       "</table>\n",
       "<p>5 rows × 26 columns</p>\n",
       "</div>"
      ],
      "text/plain": [
       "   symboling normalized-losses         make fuel-type aspiration num-of-doors  \\\n",
       "0          3                 ?  alfa-romero       gas        std          two   \n",
       "1          3                 ?  alfa-romero       gas        std          two   \n",
       "2          1                 ?  alfa-romero       gas        std          two   \n",
       "3          2               164         audi       gas        std         four   \n",
       "4          2               164         audi       gas        std         four   \n",
       "\n",
       "    body-style drive-wheels engine-location  wheel-base  ...  engine-size  \\\n",
       "0  convertible          rwd           front        88.6  ...          130   \n",
       "1  convertible          rwd           front        88.6  ...          130   \n",
       "2    hatchback          rwd           front        94.5  ...          152   \n",
       "3        sedan          fwd           front        99.8  ...          109   \n",
       "4        sedan          4wd           front        99.4  ...          136   \n",
       "\n",
       "   fuel-system  bore  stroke compression-ratio horsepower  peak-rpm city-mpg  \\\n",
       "0         mpfi  3.47    2.68               9.0        111      5000       21   \n",
       "1         mpfi  3.47    2.68               9.0        111      5000       21   \n",
       "2         mpfi  2.68    3.47               9.0        154      5000       19   \n",
       "3         mpfi  3.19    3.40              10.0        102      5500       24   \n",
       "4         mpfi  3.19    3.40               8.0        115      5500       18   \n",
       "\n",
       "  highway-mpg  price  \n",
       "0          27  13495  \n",
       "1          27  16500  \n",
       "2          26  16500  \n",
       "3          30  13950  \n",
       "4          22  17450  \n",
       "\n",
       "[5 rows x 26 columns]"
      ]
     },
     "execution_count": 4,
     "metadata": {},
     "output_type": "execute_result"
    }
   ],
   "source": [
    "data.head()"
   ]
  },
  {
   "cell_type": "markdown",
   "id": "a3d77b52",
   "metadata": {},
   "source": [
    "### Hypothesis: Does cars' horsepower correlate to price?"
   ]
  },
  {
   "cell_type": "code",
   "execution_count": 5,
   "id": "4e0f5959",
   "metadata": {
    "scrolled": true
   },
   "outputs": [],
   "source": [
    "# Drop all columns except for \"horsepower\" and \"price\"\n",
    "\n",
    "# Remove all columns between column name 'symboling' to 'compression-ratio'\n",
    "data.drop(data.loc[:, 'symboling':'compression-ratio'].columns, inplace=True, axis=1)"
   ]
  },
  {
   "cell_type": "code",
   "execution_count": 6,
   "id": "d845887b",
   "metadata": {
    "scrolled": true
   },
   "outputs": [],
   "source": [
    "# Remove columns \"peak-rpm\",\"city-mpg\", and \"highway-mpg\"\n",
    "data.drop(['peak-rpm','city-mpg','highway-mpg'], inplace=True, axis=1)"
   ]
  },
  {
   "cell_type": "code",
   "execution_count": 7,
   "id": "1734a400",
   "metadata": {
    "scrolled": true
   },
   "outputs": [
    {
     "data": {
      "text/html": [
       "<div>\n",
       "<style scoped>\n",
       "    .dataframe tbody tr th:only-of-type {\n",
       "        vertical-align: middle;\n",
       "    }\n",
       "\n",
       "    .dataframe tbody tr th {\n",
       "        vertical-align: top;\n",
       "    }\n",
       "\n",
       "    .dataframe thead th {\n",
       "        text-align: right;\n",
       "    }\n",
       "</style>\n",
       "<table border=\"1\" class=\"dataframe\">\n",
       "  <thead>\n",
       "    <tr style=\"text-align: right;\">\n",
       "      <th></th>\n",
       "      <th>horsepower</th>\n",
       "      <th>price</th>\n",
       "    </tr>\n",
       "  </thead>\n",
       "  <tbody>\n",
       "    <tr>\n",
       "      <th>0</th>\n",
       "      <td>111</td>\n",
       "      <td>13495</td>\n",
       "    </tr>\n",
       "    <tr>\n",
       "      <th>1</th>\n",
       "      <td>111</td>\n",
       "      <td>16500</td>\n",
       "    </tr>\n",
       "    <tr>\n",
       "      <th>2</th>\n",
       "      <td>154</td>\n",
       "      <td>16500</td>\n",
       "    </tr>\n",
       "    <tr>\n",
       "      <th>3</th>\n",
       "      <td>102</td>\n",
       "      <td>13950</td>\n",
       "    </tr>\n",
       "    <tr>\n",
       "      <th>4</th>\n",
       "      <td>115</td>\n",
       "      <td>17450</td>\n",
       "    </tr>\n",
       "  </tbody>\n",
       "</table>\n",
       "</div>"
      ],
      "text/plain": [
       "  horsepower  price\n",
       "0        111  13495\n",
       "1        111  16500\n",
       "2        154  16500\n",
       "3        102  13950\n",
       "4        115  17450"
      ]
     },
     "execution_count": 7,
     "metadata": {},
     "output_type": "execute_result"
    }
   ],
   "source": [
    "data.head()"
   ]
  },
  {
   "cell_type": "markdown",
   "id": "9c680198",
   "metadata": {},
   "source": [
    "### Data understanding:\n",
    "\n",
    "1. Data info\n",
    "2. Check for None values\n",
    "3. Check for NaN values"
   ]
  },
  {
   "cell_type": "code",
   "execution_count": 8,
   "id": "94458b29",
   "metadata": {
    "scrolled": true
   },
   "outputs": [
    {
     "name": "stdout",
     "output_type": "stream",
     "text": [
      "<class 'pandas.core.frame.DataFrame'>\n",
      "RangeIndex: 205 entries, 0 to 204\n",
      "Data columns (total 2 columns):\n",
      " #   Column      Non-Null Count  Dtype \n",
      "---  ------      --------------  ----- \n",
      " 0   horsepower  205 non-null    object\n",
      " 1   price       205 non-null    object\n",
      "dtypes: object(2)\n",
      "memory usage: 3.3+ KB\n"
     ]
    }
   ],
   "source": [
    "# Data info\n",
    "data.info()"
   ]
  },
  {
   "cell_type": "markdown",
   "id": "d8d538a5",
   "metadata": {},
   "source": [
    "Our data is of type **\"object\"** so pandas description will not yield numerical overview such as Min, Max or Std"
   ]
  },
  {
   "cell_type": "code",
   "execution_count": 9,
   "id": "698a06e6",
   "metadata": {
    "scrolled": true
   },
   "outputs": [
    {
     "data": {
      "text/html": [
       "<div>\n",
       "<style scoped>\n",
       "    .dataframe tbody tr th:only-of-type {\n",
       "        vertical-align: middle;\n",
       "    }\n",
       "\n",
       "    .dataframe tbody tr th {\n",
       "        vertical-align: top;\n",
       "    }\n",
       "\n",
       "    .dataframe thead th {\n",
       "        text-align: right;\n",
       "    }\n",
       "</style>\n",
       "<table border=\"1\" class=\"dataframe\">\n",
       "  <thead>\n",
       "    <tr style=\"text-align: right;\">\n",
       "      <th></th>\n",
       "      <th>horsepower</th>\n",
       "      <th>price</th>\n",
       "    </tr>\n",
       "  </thead>\n",
       "  <tbody>\n",
       "    <tr>\n",
       "      <th>count</th>\n",
       "      <td>205</td>\n",
       "      <td>205</td>\n",
       "    </tr>\n",
       "    <tr>\n",
       "      <th>unique</th>\n",
       "      <td>60</td>\n",
       "      <td>187</td>\n",
       "    </tr>\n",
       "    <tr>\n",
       "      <th>top</th>\n",
       "      <td>68</td>\n",
       "      <td>?</td>\n",
       "    </tr>\n",
       "    <tr>\n",
       "      <th>freq</th>\n",
       "      <td>19</td>\n",
       "      <td>4</td>\n",
       "    </tr>\n",
       "  </tbody>\n",
       "</table>\n",
       "</div>"
      ],
      "text/plain": [
       "       horsepower price\n",
       "count         205   205\n",
       "unique         60   187\n",
       "top            68     ?\n",
       "freq           19     4"
      ]
     },
     "execution_count": 9,
     "metadata": {},
     "output_type": "execute_result"
    }
   ],
   "source": [
    "data.describe()"
   ]
  },
  {
   "cell_type": "markdown",
   "id": "cec1715c",
   "metadata": {},
   "source": [
    "There are some **non numerical values** in the dataset (such as \"?\"). We must decide what to do with those."
   ]
  },
  {
   "cell_type": "code",
   "execution_count": 10,
   "id": "2ddd1aa3",
   "metadata": {
    "scrolled": true
   },
   "outputs": [
    {
     "data": {
      "text/plain": [
       "horsepower    0\n",
       "price         0\n",
       "dtype: int64"
      ]
     },
     "execution_count": 10,
     "metadata": {},
     "output_type": "execute_result"
    }
   ],
   "source": [
    "# Check for None values:\n",
    "data.isnull().sum()"
   ]
  },
  {
   "cell_type": "markdown",
   "id": "d7288ed6",
   "metadata": {},
   "source": [
    "### Convert data from object to int"
   ]
  },
  {
   "cell_type": "code",
   "execution_count": 11,
   "id": "b6dd2f9b",
   "metadata": {
    "scrolled": true
   },
   "outputs": [
    {
     "data": {
      "text/html": [
       "<div>\n",
       "<style scoped>\n",
       "    .dataframe tbody tr th:only-of-type {\n",
       "        vertical-align: middle;\n",
       "    }\n",
       "\n",
       "    .dataframe tbody tr th {\n",
       "        vertical-align: top;\n",
       "    }\n",
       "\n",
       "    .dataframe thead th {\n",
       "        text-align: right;\n",
       "    }\n",
       "</style>\n",
       "<table border=\"1\" class=\"dataframe\">\n",
       "  <thead>\n",
       "    <tr style=\"text-align: right;\">\n",
       "      <th></th>\n",
       "      <th>horsepower</th>\n",
       "      <th>price</th>\n",
       "    </tr>\n",
       "  </thead>\n",
       "  <tbody>\n",
       "    <tr>\n",
       "      <th>130</th>\n",
       "      <td>?</td>\n",
       "      <td>9295</td>\n",
       "    </tr>\n",
       "    <tr>\n",
       "      <th>131</th>\n",
       "      <td>?</td>\n",
       "      <td>9895</td>\n",
       "    </tr>\n",
       "  </tbody>\n",
       "</table>\n",
       "</div>"
      ],
      "text/plain": [
       "    horsepower price\n",
       "130          ?  9295\n",
       "131          ?  9895"
      ]
     },
     "execution_count": 11,
     "metadata": {},
     "output_type": "execute_result"
    }
   ],
   "source": [
    "# Find out which rows contain the non numerical data:\n",
    "data.loc[data['horsepower'] == '?']"
   ]
  },
  {
   "cell_type": "code",
   "execution_count": 12,
   "id": "b746d6dc",
   "metadata": {
    "scrolled": true
   },
   "outputs": [
    {
     "data": {
      "text/html": [
       "<div>\n",
       "<style scoped>\n",
       "    .dataframe tbody tr th:only-of-type {\n",
       "        vertical-align: middle;\n",
       "    }\n",
       "\n",
       "    .dataframe tbody tr th {\n",
       "        vertical-align: top;\n",
       "    }\n",
       "\n",
       "    .dataframe thead th {\n",
       "        text-align: right;\n",
       "    }\n",
       "</style>\n",
       "<table border=\"1\" class=\"dataframe\">\n",
       "  <thead>\n",
       "    <tr style=\"text-align: right;\">\n",
       "      <th></th>\n",
       "      <th>horsepower</th>\n",
       "      <th>price</th>\n",
       "    </tr>\n",
       "  </thead>\n",
       "  <tbody>\n",
       "    <tr>\n",
       "      <th>9</th>\n",
       "      <td>160</td>\n",
       "      <td>?</td>\n",
       "    </tr>\n",
       "    <tr>\n",
       "      <th>44</th>\n",
       "      <td>70</td>\n",
       "      <td>?</td>\n",
       "    </tr>\n",
       "    <tr>\n",
       "      <th>45</th>\n",
       "      <td>70</td>\n",
       "      <td>?</td>\n",
       "    </tr>\n",
       "    <tr>\n",
       "      <th>129</th>\n",
       "      <td>288</td>\n",
       "      <td>?</td>\n",
       "    </tr>\n",
       "  </tbody>\n",
       "</table>\n",
       "</div>"
      ],
      "text/plain": [
       "    horsepower price\n",
       "9          160     ?\n",
       "44          70     ?\n",
       "45          70     ?\n",
       "129        288     ?"
      ]
     },
     "execution_count": 12,
     "metadata": {},
     "output_type": "execute_result"
    }
   ],
   "source": [
    "# Find out which rows contain the non numerical data:\n",
    "data.loc[data['price'] == '?']"
   ]
  },
  {
   "cell_type": "code",
   "execution_count": 13,
   "id": "a873a91f",
   "metadata": {
    "scrolled": true
   },
   "outputs": [],
   "source": [
    "# Drop rows containing non numerical data:\n",
    "data.drop([9, 44, 45, 129, 130, 131], inplace=True)"
   ]
  },
  {
   "cell_type": "code",
   "execution_count": 14,
   "id": "bc9e45c3",
   "metadata": {
    "scrolled": true
   },
   "outputs": [],
   "source": [
    "# Convert object data to int:\n",
    "data['horsepower'] = data['horsepower'].fillna(0).astype(int)\n",
    "data['price'] = data['price'].fillna(0).astype(int)"
   ]
  },
  {
   "cell_type": "markdown",
   "id": "9071d56c",
   "metadata": {},
   "source": [
    "### Data visualization"
   ]
  },
  {
   "cell_type": "code",
   "execution_count": 15,
   "id": "d81c4eb1",
   "metadata": {
    "scrolled": false
   },
   "outputs": [
    {
     "data": {
      "text/plain": [
       "Text(0, 0.5, 'Horsepower')"
      ]
     },
     "execution_count": 15,
     "metadata": {},
     "output_type": "execute_result"
    },
    {
     "data": {
      "image/png": "[encoded data removed]",
      "text/plain": [
       "<Figure size 640x480 with 1 Axes>"
      ]
     },
     "metadata": {},
     "output_type": "display_data"
    }
   ],
   "source": [
    "# X-axis is price\n",
    "# Y-axis is horsepower\n",
    "\n",
    "plt.plot(data[\"price\"], data[\"horsepower\"],'bo')\n",
    "plt.xlabel('Price')\n",
    "plt.ylabel('Horsepower')"
   ]
  },
  {
   "cell_type": "markdown",
   "id": "5866edf3",
   "metadata": {},
   "source": [
    "I will try fitting a **line through the data** to simulate what linear regression does by trial and error."
   ]
  },
  {
   "attachments": {
    "Linear%20Equation%20description.png": {
     "image/png": "[encoded data removed]"
    }
   },
   "cell_type": "markdown",
   "id": "0e0c4ffa",
   "metadata": {},
   "source": [
    "Remember that the **linear equation** is expressed as:\n",
    "\n",
    "![Linear%20Equation%20description.png](attachment:Linear%20Equation%20description.png)"
   ]
  },
  {
   "cell_type": "markdown",
   "id": "aec1ae76",
   "metadata": {},
   "source": [
    "In machine learning by convention, the Greek letter $\\theta$ is frequently used to represent model parameters. The linear equation in Machine learning terms would then be rewritten as follows:\n",
    "\n",
    "$ y = \\theta_{0} + \\theta_{1}*x $\n",
    "\n",
    "Where,\n",
    "\n",
    "$\\theta_{0}$ = **intercept** <br>\n",
    "$\\theta_{1}$ = **slope**"
   ]
  },
  {
   "cell_type": "markdown",
   "id": "3b66db8f",
   "metadata": {},
   "source": [
    "First, lets try to set **intercept** $\\theta_{0}$ to $50$ and **slope** $\\theta_{1}$ to $8 \\times 10^{-3}$"
   ]
  },
  {
   "cell_type": "code",
   "execution_count": 16,
   "id": "df5009ce",
   "metadata": {
    "scrolled": false
   },
   "outputs": [
    {
     "data": {
      "text/plain": [
       "Text(5000, 200, '$\\\\theta_1 = 8 \\\\times 10^{-3}$')"
      ]
     },
     "execution_count": 16,
     "metadata": {},
     "output_type": "execute_result"
    },
    {
     "data": {
      "image/png": "[encoded data removed]",
      "text/plain": [
       "<Figure size 640x480 with 1 Axes>"
      ]
     },
     "metadata": {},
     "output_type": "display_data"
    }
   ],
   "source": [
    "plt.plot(data[\"price\"], data[\"horsepower\"],'bo')\n",
    "plt.xlabel('Price')\n",
    "plt.ylabel('Horsepower')\n",
    "plt.plot(data[\"price\"], 50 + 8*data[\"price\"]/1000, \"g\")\n",
    "plt.text(5000, 220, r\"$\\theta_0 = 50$\", fontsize=12, color=\"g\")\n",
    "plt.text(5000, 200, r\"$\\theta_1 = 8 \\times 10^{-3}$\", fontsize=12, color=\"g\")"
   ]
  },
  {
   "cell_type": "markdown",
   "id": "eeb877ac",
   "metadata": {},
   "source": [
    "This **somewhat fits** the data for price to horsepower correlation but **it is not ideal**. Let's try to adjust the parameters and see what happens: <br>\n",
    "$\\theta_0 = 50$ <br>\n",
    "$\\theta_1 = 1 \\times 10^{-3}$"
   ]
  },
  {
   "cell_type": "code",
   "execution_count": 17,
   "id": "88066b7d",
   "metadata": {},
   "outputs": [
    {
     "data": {
      "text/plain": [
       "Text(35000, 60, '$\\\\theta_1 = 1 \\\\times 10^{-3}$')"
      ]
     },
     "execution_count": 17,
     "metadata": {},
     "output_type": "execute_result"
    },
    {
     "data": {
      "image/png": "[encoded data removed]",
      "text/plain": [
       "<Figure size 640x480 with 1 Axes>"
      ]
     },
     "metadata": {},
     "output_type": "display_data"
    }
   ],
   "source": [
    "plt.plot(data[\"price\"], data[\"horsepower\"],'bo')\n",
    "plt.xlabel('Price')\n",
    "plt.ylabel('Horsepower')\n",
    "plt.plot(data[\"price\"], 50 + 1*data[\"price\"]/1000, \"r\")\n",
    "plt.text(35000, 70, r\"$\\theta_0 = 50$\", fontsize=12, color=\"r\")\n",
    "plt.text(35000, 60, r\"$\\theta_1 = 1 \\times 10^{-3}$\", fontsize=12, color=\"r\")"
   ]
  },
  {
   "cell_type": "markdown",
   "id": "15b4679b",
   "metadata": {},
   "source": [
    "Now the slope is too gentle. We need to tweek it further. Lets try: <br>\n",
    "$\\theta_0 = 35$ <br>\n",
    "$\\theta_1 = 5 \\times 10^{-3}$"
   ]
  },
  {
   "cell_type": "code",
   "execution_count": 33,
   "id": "cfe85523",
   "metadata": {},
   "outputs": [
    {
     "data": {
      "text/plain": [
       "Text(35000, 60, '$\\\\theta_1 = 5 \\\\times 10^{-3}$')"
      ]
     },
     "execution_count": 33,
     "metadata": {},
     "output_type": "execute_result"
    },
    {
     "data": {
      "image/png": "[encoded data removed]",
      "text/plain": [
       "<Figure size 640x480 with 1 Axes>"
      ]
     },
     "metadata": {},
     "output_type": "display_data"
    }
   ],
   "source": [
    "plt.plot(data[\"price\"], data[\"horsepower\"],'bo')\n",
    "plt.xlabel('Price')\n",
    "plt.ylabel('Horsepower')\n",
    "plt.plot(data[\"price\"], 35 + 5*data[\"price\"]/1000, \"c\")\n",
    "plt.text(35000, 70, r\"$\\theta_0 = 35$\", fontsize=12, color=\"c\")\n",
    "plt.text(35000, 60, r\"$\\theta_1 = 5 \\times 10^{-3}$\", fontsize=12, color=\"c\")"
   ]
  },
  {
   "cell_type": "markdown",
   "id": "8d5b7d19",
   "metadata": {},
   "source": [
    "**This looks OK**. Let's see **if the linear regression can improve the parameters** we found by trial and error."
   ]
  },
  {
   "cell_type": "markdown",
   "id": "a016ddf3",
   "metadata": {},
   "source": [
    "### Linear regression\n",
    "\n",
    "- to improve the trial and error linear equation for correlation between car price and horsepower"
   ]
  },
  {
   "cell_type": "code",
   "execution_count": 19,
   "id": "450d5cb5",
   "metadata": {},
   "outputs": [],
   "source": [
    "# Select a linear model\n",
    "model = sklearn.linear_model.LinearRegression()"
   ]
  },
  {
   "cell_type": "code",
   "execution_count": 20,
   "id": "022c50a9",
   "metadata": {},
   "outputs": [],
   "source": [
    "# Prepare features and labels\n",
    "X = data[\"price\"].values\n",
    "y = data[\"horsepower\"].values"
   ]
  },
  {
   "cell_type": "code",
   "execution_count": 21,
   "id": "a20d2ef6",
   "metadata": {},
   "outputs": [
    {
     "data": {
      "text/plain": [
       "(199,)"
      ]
     },
     "execution_count": 21,
     "metadata": {},
     "output_type": "execute_result"
    }
   ],
   "source": [
    "X.shape"
   ]
  },
  {
   "cell_type": "markdown",
   "id": "ff575716",
   "metadata": {},
   "source": [
    "Linear Regression expects the input for features (X) to be in a **shape of 2D array not 1D array**. So we need to reshape it."
   ]
  },
  {
   "cell_type": "code",
   "execution_count": 24,
   "id": "4ecb50b7",
   "metadata": {},
   "outputs": [
    {
     "data": {
      "text/plain": [
       "(199, 1)"
      ]
     },
     "execution_count": 24,
     "metadata": {},
     "output_type": "execute_result"
    }
   ],
   "source": [
    "X = X.reshape(-1, 1)\n",
    "X.shape"
   ]
  },
  {
   "cell_type": "code",
   "execution_count": 25,
   "id": "a29ffdb9",
   "metadata": {
    "scrolled": true
   },
   "outputs": [
    {
     "data": {
      "text/plain": [
       "LinearRegression()"
      ]
     },
     "execution_count": 25,
     "metadata": {},
     "output_type": "execute_result"
    }
   ],
   "source": [
    "# Train the model\n",
    "model.fit(X, y)"
   ]
  },
  {
   "cell_type": "markdown",
   "id": "11b4a158",
   "metadata": {},
   "source": [
    "Let's see what the **Linear Regression** has chosen as the **ideal linear model/function** give the Car data for price vs. horsepower:"
   ]
  },
  {
   "cell_type": "code",
   "execution_count": 30,
   "id": "9f2f1c15",
   "metadata": {},
   "outputs": [
    {
     "name": "stdout",
     "output_type": "stream",
     "text": [
      "Intercept = 52.873519713955005\n",
      "Slope = [0.00381498]\n"
     ]
    }
   ],
   "source": [
    "print(f\"Intercept = {model.intercept_}\")\n",
    "print(f\"Slope = {model.coef_}\")"
   ]
  },
  {
   "cell_type": "markdown",
   "id": "0a12c93e",
   "metadata": {},
   "source": [
    "Let's see what that looks like on the graph: <br>\n",
    "$\\theta_0 = 52.87$ <br>\n",
    "$\\theta_1 = 3.814 \\times 10^{-3}$"
   ]
  },
  {
   "cell_type": "code",
   "execution_count": 34,
   "id": "7f147f16",
   "metadata": {},
   "outputs": [
    {
     "data": {
      "text/plain": [
       "Text(30000, 60, '$\\\\theta_1 = 3.814 \\\\times 10^{-3}$')"
      ]
     },
     "execution_count": 34,
     "metadata": {},
     "output_type": "execute_result"
    },
    {
     "data": {
      "image/png": "[encoded data removed]",
      "text/plain": [
       "<Figure size 640x480 with 1 Axes>"
      ]
     },
     "metadata": {},
     "output_type": "display_data"
    }
   ],
   "source": [
    "plt.plot(data[\"price\"], data[\"horsepower\"],'bo')\n",
    "plt.xlabel('Price')\n",
    "plt.ylabel('Horsepower')\n",
    "plt.plot(data[\"price\"], 52.87 + 3.814*data[\"price\"]/1000, \"y\")\n",
    "plt.text(30000, 70, r\"$\\theta_0 = 52.87$\", fontsize=12, color=\"y\")\n",
    "plt.text(30000, 60, r\"$\\theta_1 = 3.814 \\times 10^{-3}$\", fontsize=12, color=\"y\")"
   ]
  },
  {
   "cell_type": "markdown",
   "id": "1b896ea4",
   "metadata": {},
   "source": [
    "Predict the horsepower of a car based on it's price:"
   ]
  },
  {
   "cell_type": "code",
   "execution_count": 37,
   "id": "211b716f",
   "metadata": {},
   "outputs": [
    {
     "name": "stdout",
     "output_type": "stream",
     "text": [
      "[110.09826093]\n"
     ]
    }
   ],
   "source": [
    "X_new = [[15000]]  # Hypothetical car has a price of 15 000\n",
    "print(model.predict(X_new))\n",
    "\n",
    "predicted_horsepower = model.predict(X_new)"
   ]
  },
  {
   "cell_type": "markdown",
   "id": "d4427896",
   "metadata": {},
   "source": [
    "Let's see how that prediction looks like on a graph:"
   ]
  },
  {
   "cell_type": "code",
   "execution_count": 47,
   "id": "1110baa6",
   "metadata": {},
   "outputs": [
    {
     "data": {
      "text/plain": [
       "Text(16000, 30, 'Prediction = [110.09826093]')"
      ]
     },
     "execution_count": 47,
     "metadata": {},
     "output_type": "execute_result"
    },
    {
     "data": {
      "image/png": "[encoded data removed]",
      "text/plain": [
       "<Figure size 640x480 with 1 Axes>"
      ]
     },
     "metadata": {},
     "output_type": "display_data"
    }
   ],
   "source": [
    "plt.plot(data[\"price\"], data[\"horsepower\"],'bo')\n",
    "plt.xlabel('Price')\n",
    "plt.ylabel('Horsepower')\n",
    "plt.plot(data[\"price\"], 52.87 + 3.814*data[\"price\"]/1000, \"y\")\n",
    "plt.text(30000, 80, r\"$\\theta_0 = 52.87$\", fontsize=12, color=\"y\")\n",
    "plt.text(30000, 60, r\"$\\theta_1 = 3.814 \\times 10^{-3}$\", fontsize=12, color=\"y\")\n",
    "# Print a line from price of 15000 to it's predicted horsepower on the linear equation line\n",
    "plt.plot([15000, 15000],[0, predicted_horsepower], 'r--')\n",
    "# Print a dot on the linear equation line where the price of 15000 corresponds to horsepower\n",
    "plt.plot(15000, predicted_horsepower, \"ro\")\n",
    "# Description text for the dotted red line\n",
    "plt.text(16000, 30, f\"Prediction = {predicted_horsepower}\", fontsize=12, color=\"r\")"
   ]
  },
  {
   "cell_type": "code",
   "execution_count": null,
   "id": "e62fb086",
   "metadata": {},
   "outputs": [],
   "source": []
  }
 ],
 "metadata": {
  "kernelspec": {
   "display_name": "Python 3 (ipykernel)",
   "language": "python",
   "name": "python3"
  },
  "language_info": {
   "codemirror_mode": {
    "name": "ipython",
    "version": 3
   },
   "file_extension": ".py",
   "mimetype": "text/x-python",
   "name": "python",
   "nbconvert_exporter": "python",
   "pygments_lexer": "ipython3",
   "version": "3.9.13"
  }
 },
 "nbformat": 4,
 "nbformat_minor": 5
}
